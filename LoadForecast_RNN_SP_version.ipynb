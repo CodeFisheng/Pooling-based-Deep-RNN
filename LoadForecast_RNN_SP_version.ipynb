{
 "cells": [
  {
   "cell_type": "markdown",
   "metadata": {
    "collapsed": true
   },
   "source": [
    "###"
   ]
  },
  {
   "cell_type": "markdown",
   "metadata": {
    "collapsed": true
   },
   "source": [
    "# Deep Learning (RNN) Demo for Load Forecasting"
   ]
  },
  {
   "cell_type": "markdown",
   "metadata": {},
   "source": [
    "### Step 1: Import all the packages needed"
   ]
  },
  {
   "cell_type": "code",
   "execution_count": 1,
   "metadata": {
    "collapsed": false
   },
   "outputs": [],
   "source": [
    "import tensorflow as tf\n",
    "from tensorflow.models.rnn import rnn, rnn_cell\n",
    "import numpy as np\n",
    "import pandas as pd\n",
    "from pandas import Series, DataFrame\n",
    "import numpy as np\n",
    "import matplotlib as mp\n",
    "import random as rd\n",
    "import argparse\n",
    "import os, sys\n",
    "import csv\n",
    "import math\n",
    "import time\n",
    "import matplotlib.pyplot as pl"
   ]
  },
  {
   "cell_type": "markdown",
   "metadata": {},
   "source": [
    "### Step 2: setting all global parameters -- sec 2 network configuration"
   ]
  },
  {
   "cell_type": "code",
   "execution_count": 2,
   "metadata": {
    "collapsed": true
   },
   "outputs": [],
   "source": [
    "time1 = time.time() # set up counter to record run time\n",
    "data_dir = './data/' # directory contains input data\n",
    "num_epoches = 600 # training epoches for each customer samples\n",
    "n_steps = 48 # input size\n",
    "test_batch_size = 70*48 # days of a batch\n",
    "train_batch_size = 70*48\n",
    "feature_size = 1 # same time of a week\n",
    "n_hidden = 10 # input size\n",
    "num_layers = 2\n",
    "n_output = 1\n",
    "Rs = 10"
   ]
  },
  {
   "cell_type": "markdown",
   "metadata": {
    "collapsed": true
   },
   "source": [
    "### Step 4: define data generating function code. \n",
    "which generate a batch of batch-size large sequence data. the data is feature_size dims width and is a time series of float32 of steps steps. inputs and outputs are:\n",
    "\n",
    "inputs:\n",
    "----n_batch: number of samples in a batch\n",
    "----steps: the sequence length of a sample data\n",
    "----feature_size: dimensions of a single time step data frame\n",
    "\n",
    "outputs:\n",
    "----X inputs, shape(n_batch,steps,feature_size)\n",
    "----Y outputs should be, shape(n_batch,)"
   ]
  },
  {
   "cell_type": "code",
   "execution_count": 3,
   "metadata": {
    "collapsed": true
   },
   "outputs": [],
   "source": [
    "def train_data_gen(totaltraindays,x_data,y_data,steps = 48, n_batch = train_batch_size):\n",
    "    X = np.zeros((n_batch,steps,feature_size))\n",
    "    Y = np.zeros((n_batch,feature_size))\n",
    "    rang = range(totaltraindays) # test day sample range\n",
    "    train_days_list = rd.sample(rang,n_batch) # pick unduplicated n indexes as examples\n",
    "    #print totaltraindays\n",
    "    tmpX = [x_data[i,0-steps:] for i in train_days_list]\n",
    "    tmpY = [y_data[i,:] for i in train_days_list]\n",
    "    X = np.array(tmpX).reshape(n_batch,steps,feature_size)\n",
    "    Y = np.array(tmpY).reshape(n_batch,feature_size)\n",
    "    return (X,Y)"
   ]
  },
  {
   "cell_type": "code",
   "execution_count": 4,
   "metadata": {
    "collapsed": true
   },
   "outputs": [],
   "source": [
    "def test_data_gen(x_data,y_data,steps = 48, n_batch = test_batch_size):\n",
    "    X = np.zeros((n_batch,steps,feature_size))\n",
    "    Y = np.zeros((n_batch,feature_size))\n",
    "    #print x_data[:,0-steps:].shape,y_data.shape\n",
    "    #print n_batch, steps\n",
    "    X = x_data[:,0-steps:].reshape(n_batch,steps,feature_size)\n",
    "    Y = y_data.reshape(n_batch,feature_size)\n",
    "    return (X,Y)"
   ]
  },
  {
   "cell_type": "markdown",
   "metadata": {},
   "source": [
    "### Step 5: construct RNN model"
   ]
  },
  {
   "cell_type": "code",
   "execution_count": 5,
   "metadata": {
    "collapsed": false
   },
   "outputs": [],
   "source": [
    "# create placeholder for x and y\n",
    "x = tf.placeholder(\"float\",[None,n_steps,feature_size])\n",
    "istate = tf.placeholder(\"float\",[None,num_layers*2*n_hidden])\n",
    "y = tf.placeholder(\"float\",[None,n_output])\n",
    "\n",
    "\n",
    "# Define weights\n",
    "weights = {\n",
    "    'hidden': tf.Variable(tf.random_normal([feature_size, n_hidden])), # Hidden layer weights\n",
    "    'out': tf.Variable(tf.random_normal([n_hidden, n_output]))\n",
    "}\n",
    "biases = {\n",
    "    'hidden': tf.Variable(tf.random_normal([n_hidden])),\n",
    "    'out': tf.Variable(tf.random_normal([n_output]))\n",
    "}"
   ]
  },
  {
   "cell_type": "code",
   "execution_count": 6,
   "metadata": {
    "collapsed": true
   },
   "outputs": [],
   "source": [
    "def RNN(_X, _istate, _weights, _biases):\n",
    "\n",
    "    # input shape: (batch_size, n_steps, n_input)\n",
    "    _X = tf.transpose(_X, [1, 0, 2])  # permute n_steps and batch_size\n",
    "    # Reshape to prepare input to hidden activation\n",
    "    _X = tf.reshape(_X, [-1, feature_size]) # (n_steps*batch_size, n_input)\n",
    "    # Linear activation\n",
    "    _X = tf.matmul(_X, _weights['hidden']) + _biases['hidden']\n",
    "\n",
    "    # Define a lstm cell with tensorflow\n",
    "    lstm_cell = rnn_cell.BasicLSTMCell(n_hidden, forget_bias=1.0)\n",
    "    stacked_lstm_cell = rnn_cell.MultiRNNCell([lstm_cell]*num_layers)\n",
    "    \n",
    "    # Split data because rnn cell needs a list of inputs for the RNN inner loop\n",
    "    _X = tf.split(0, n_steps, _X) # n_steps * (batch_size, n_hidden)\n",
    "\n",
    "    # Get lstm cell output\n",
    "    outputs, states = rnn.rnn(stacked_lstm_cell, _X, initial_state=_istate)\n",
    "\n",
    "    # Linear activation\n",
    "    # Get inner loop last output\n",
    "    return tf.matmul(outputs[-1], _weights['out']) + _biases['out']"
   ]
  },
  {
   "cell_type": "code",
   "execution_count": null,
   "metadata": {
    "collapsed": false
   },
   "outputs": [],
   "source": [
    "pred = RNN(x, istate, weights, biases)\n",
    "\n",
    "#cost function \n",
    "cost = tf.reduce_mean(tf.pow(pred-y,2)) # cost function of this batch of data\n",
    "cost2 = tf.abs(pred-y) # \n",
    "#compute parameter updates\n",
    "#train_op = tf.train.GradientDescentOptimizer(0.008).minimize(cost)\n",
    "optimizer = tf.train.RMSPropOptimizer(0.005, 0.3).minimize(cost)\n",
    "optimizer2 = tf.train.RMSPropOptimizer(0.005, 0.3).minimize(cost2)"
   ]
  },
  {
   "cell_type": "code",
   "execution_count": null,
   "metadata": {
    "collapsed": false
   },
   "outputs": [
    {
     "name": "stdout",
     "output_type": "stream",
     "text": [
      "Iter 0, Minibatch Loss ---- Train = 0.135950; Test = 0.137269\n",
      "Iter 1, Minibatch Loss ---- Train = 0.198104; Test = 0.176260\n",
      "Iter 2, Minibatch Loss ---- Train = 0.127573; Test = 0.128228\n",
      "Iter 3, Minibatch Loss ---- Train = 0.132068; Test = 0.135174\n",
      "Iter 4, Minibatch Loss ---- Train = 0.121880; Test = 0.128049\n",
      "Iter 5, Minibatch Loss ---- Train = 0.109803; Test = 0.113796\n",
      "Iter 6, Minibatch Loss ---- Train = 0.122853; Test = 0.125285\n",
      "Iter 7, Minibatch Loss ---- Train = 0.105977; Test = 0.100961\n",
      "Iter 8, Minibatch Loss ---- Train = 0.119875; Test = 0.120535\n",
      "Iter 9, Minibatch Loss ---- Train = 0.102730; Test = 0.092600\n",
      "Iter 10, Minibatch Loss ---- Train = 0.115580; Test = 0.114180\n",
      "Iter 11, Minibatch Loss ---- Train = 0.090399; Test = 0.088776\n",
      "Iter 12, Minibatch Loss ---- Train = 0.119237; Test = 0.110392\n",
      "Iter 13, Minibatch Loss ---- Train = 0.091734; Test = 0.084736\n",
      "Iter 14, Minibatch Loss ---- Train = 0.106921; Test = 0.102086\n",
      "Iter 15, Minibatch Loss ---- Train = 0.092942; Test = 0.086448\n",
      "Iter 16, Minibatch Loss ---- Train = 0.099467; Test = 0.099120\n",
      "Iter 17, Minibatch Loss ---- Train = 0.090440; Test = 0.083094\n",
      "Iter 18, Minibatch Loss ---- Train = 0.097352; Test = 0.092285\n",
      "Iter 19, Minibatch Loss ---- Train = 0.089647; Test = 0.085722\n",
      "Iter 20, Minibatch Loss ---- Train = 0.098766; Test = 0.091191\n",
      "Iter 21, Minibatch Loss ---- Train = 0.086333; Test = 0.081498\n",
      "Iter 22, Minibatch Loss ---- Train = 0.086739; Test = 0.083952\n",
      "Iter 23, Minibatch Loss ---- Train = 0.084706; Test = 0.086732\n",
      "Iter 24, Minibatch Loss ---- Train = 0.082690; Test = 0.083197\n",
      "Iter 25, Minibatch Loss ---- Train = 0.090170; Test = 0.080987\n",
      "Iter 26, Minibatch Loss ---- Train = 0.089699; Test = 0.077948\n",
      "Iter 27, Minibatch Loss ---- Train = 0.093536; Test = 0.087016\n",
      "Iter 28, Minibatch Loss ---- Train = 0.077627; Test = 0.078186\n",
      "Iter 29, Minibatch Loss ---- Train = 0.072951; Test = 0.080103\n",
      "Iter 30, Minibatch Loss ---- Train = 0.080973; Test = 0.073149\n",
      "Iter 31, Minibatch Loss ---- Train = 0.087571; Test = 0.087153\n",
      "Iter 32, Minibatch Loss ---- Train = 0.073891; Test = 0.073440\n",
      "Iter 33, Minibatch Loss ---- Train = 0.081452; Test = 0.077504\n",
      "Iter 34, Minibatch Loss ---- Train = 0.069617; Test = 0.066770\n",
      "Iter 35, Minibatch Loss ---- Train = 0.093072; Test = 0.092277\n",
      "Iter 36, Minibatch Loss ---- Train = 0.070511; Test = 0.068585\n",
      "Iter 37, Minibatch Loss ---- Train = 0.074595; Test = 0.074768\n",
      "Iter 38, Minibatch Loss ---- Train = 0.060500; Test = 0.063354\n",
      "Iter 39, Minibatch Loss ---- Train = 0.093526; Test = 0.093221\n",
      "Iter 40, Minibatch Loss ---- Train = 0.073279; Test = 0.066528\n",
      "Iter 41, Minibatch Loss ---- Train = 0.083032; Test = 0.074354\n",
      "Iter 42, Minibatch Loss ---- Train = 0.066981; Test = 0.063287\n",
      "Iter 43, Minibatch Loss ---- Train = 0.097431; Test = 0.089927\n",
      "Iter 44, Minibatch Loss ---- Train = 0.066774; Test = 0.065400\n",
      "Iter 45, Minibatch Loss ---- Train = 0.078756; Test = 0.074332\n",
      "Iter 46, Minibatch Loss ---- Train = 0.073476; Test = 0.062928\n",
      "Iter 47, Minibatch Loss ---- Train = 0.093926; Test = 0.084724\n",
      "Iter 48, Minibatch Loss ---- Train = 0.064409; Test = 0.065058\n",
      "Iter 49, Minibatch Loss ---- Train = 0.073984; Test = 0.073868\n",
      "Iter 50, Minibatch Loss ---- Train = 0.077292; Test = 0.069249\n",
      "Iter 51, Minibatch Loss ---- Train = 0.072157; Test = 0.063797\n",
      "Iter 52, Minibatch Loss ---- Train = 0.061320; Test = 0.060073\n",
      "Iter 53, Minibatch Loss ---- Train = 0.063045; Test = 0.058744\n",
      "Iter 54, Minibatch Loss ---- Train = 0.058690; Test = 0.058714\n",
      "Iter 55, Minibatch Loss ---- Train = 0.061817; Test = 0.058624\n",
      "Iter 56, Minibatch Loss ---- Train = 0.067332; Test = 0.058839\n",
      "Iter 57, Minibatch Loss ---- Train = 0.074949; Test = 0.068822\n",
      "Iter 58, Minibatch Loss ---- Train = 0.084949; Test = 0.073891\n",
      "Iter 59, Minibatch Loss ---- Train = 0.064438; Test = 0.066272\n",
      "Iter 60, Minibatch Loss ---- Train = 0.078919; Test = 0.067287\n",
      "Iter 61, Minibatch Loss ---- Train = 0.070136; Test = 0.068168\n",
      "Iter 62, Minibatch Loss ---- Train = 0.080672; Test = 0.068946\n",
      "Iter 63, Minibatch Loss ---- Train = 0.066846; Test = 0.066914\n",
      "Iter 64, Minibatch Loss ---- Train = 0.069853; Test = 0.066244\n",
      "Iter 65, Minibatch Loss ---- Train = 0.072824; Test = 0.066753\n",
      "Iter 66, Minibatch Loss ---- Train = 0.071071; Test = 0.066817\n",
      "Iter 67, Minibatch Loss ---- Train = 0.067502; Test = 0.065143\n",
      "Iter 68, Minibatch Loss ---- Train = 0.068895; Test = 0.064814\n",
      "Iter 69, Minibatch Loss ---- Train = 0.074252; Test = 0.064302\n",
      "Iter 70, Minibatch Loss ---- Train = 0.059728; Test = 0.063900\n",
      "Iter 71, Minibatch Loss ---- Train = 0.073691; Test = 0.064830\n",
      "Iter 72, Minibatch Loss ---- Train = 0.072310; Test = 0.064957\n",
      "Iter 73, Minibatch Loss ---- Train = 0.071134; Test = 0.061595\n",
      "Iter 74, Minibatch Loss ---- Train = 0.064708; Test = 0.062030\n"
     ]
    }
   ],
   "source": [
    "## iterating among all customers to find current training customer\n",
    "result_final = []\n",
    "for i in range(75,200):\n",
    "    test_x_name = data_dir + 'test_x_' + str(i) + '.csv'\n",
    "    test_y_name = data_dir + 'test_y_' + str(i) + '.csv'\n",
    "    train_x_name = data_dir + 'train_x_' + str(i) + '.csv'\n",
    "    train_y_name = data_dir + 'train_y_' + str(i) + '.csv'\n",
    "    tmp_data = np.array(pd.read_csv(test_x_name,header = None))\n",
    "    test_x_data = tmp_data[:,1:]\n",
    "    # print test_x_data.dtype  data are stored as float64 double precision format\n",
    "    tmp_data = np.array(pd.read_csv(test_y_name,header = None))\n",
    "    test_y_data = tmp_data[:,1:]\n",
    "    tmp_data = np.array(pd.read_csv(train_x_name,header = None))\n",
    "    train_x_data = tmp_data[:,1:]\n",
    "    tmp_data = np.array(pd.read_csv(train_y_name,header = None))\n",
    "    train_y_data = tmp_data[:,1:]\n",
    "    traindays = train_y_data.shape[0]\n",
    "    # generate test data\n",
    "    test_x,test_y = test_data_gen(test_x_data,test_y_data,n_steps)\n",
    "    test_x = test_x.reshape(test_batch_size,n_steps,feature_size)\n",
    "    ### Execute\n",
    "    # Initializing the variables\n",
    "    init = tf.initialize_all_variables()\n",
    "    outp = []\n",
    "    outlist = np.zeros([Rs,test_batch_size])\n",
    "    with tf.Session() as sess:\n",
    "        # Create a summary to monitor cost function\n",
    "        #tf.scalar_summary(\"loss\", cost)\n",
    "        #tf.scalar_summary(\"loss2\",cost2)\n",
    "        # Merge all summaries to a single operator\n",
    "        #merged_summary_op = tf.merge_all_summaries()\n",
    "\n",
    "        # tensorboard info.# Set logs writer into folder /tmp/tensorflow_logs\n",
    "        #summary_writer = tf.train.SummaryWriter('/tmp/tensorflow_logs', graph_def=sess.graph_def)\n",
    "\n",
    "        #initialize all variables in the model\n",
    "        sess.run(init)\n",
    "        for k in range(num_epoches):\n",
    "            #Generate Data for each epoch\n",
    "            #What this does is it creates a list of of elements of length seq_len, each of size [batch_size,input_size]\n",
    "            #this is required to feed data into rnn.rnn\n",
    "            #print traindays\n",
    "            X,Y = train_data_gen(traindays,train_x_data,train_y_data,n_steps)\n",
    "            X = X.reshape(train_batch_size,n_steps,feature_size)\n",
    "\n",
    "\n",
    "            #Create the dictionary of inputs to feed into sess.run\n",
    "            if k < 50:\n",
    "                sess.run(optimizer2,feed_dict={x:X,y:Y,istate:np.zeros((train_batch_size,num_layers*2*n_hidden))})\n",
    "            else:\n",
    "                sess.run(optimizer,feed_dict={x:X,y:Y,istate:np.zeros((train_batch_size,num_layers*2*n_hidden))})   \n",
    "            #perform an update on the parameters\n",
    "\n",
    "            loss1 = sess.run(cost, feed_dict = {x:X,y:Y,istate:np.zeros((train_batch_size,num_layers*2*n_hidden))} )\n",
    "            loss2 = sess.run(cost, feed_dict = {x:test_x,y:test_y,istate:np.zeros((test_batch_size,num_layers*2*n_hidden))} )            #compute the cost on the validation set\n",
    "            output_tmp = sess.run(pred,feed_dict = {x:X,y:Y,istate:np.zeros((train_batch_size,num_layers*2*n_hidden))} )\n",
    "            outp_train = output_tmp\n",
    "            output_tmp = sess.run(pred,feed_dict = {x:test_x,y:test_y,istate:np.zeros((test_batch_size,num_layers*2*n_hidden))} )\n",
    "            outp_test = output_tmp\n",
    "            if k >= num_epoches-Rs:\n",
    "                outlist[k-num_epoches+Rs,:] = outp_test.copy().T\n",
    "\n",
    "            # Write logs at every iteration\n",
    "            #summary_str = sess.run(merged_summary_op, feed_dict={x:test_x,y:test_y,istate:np.zeros((test_batch_size,num_layers*2*n_hidden))} )\n",
    "            #summary_writer.add_summary(summary_str, k)\n",
    "            print \"Iter \" + str(k) + \", Minibatch Loss ---- Train = \" + \"{:.6f}\".format(loss1) + \"; Test = \" + \"{:.6f}\".format(loss2)\n",
    "        #print \"haha{}\".format(outp)\n",
    "    R = []\n",
    "    RR  = []\n",
    "    for i in range(Rs):\n",
    "        out = np.array(outlist[i])\n",
    "        R.append(np.corrcoef(out.T,test_y.T)[0,1])\n",
    "        RR.append(np.corrcoef(out.T,test_y.T)[0,1]**2)\n",
    "    print R\n",
    "    RRR = np.mean(R)# average Rs R in this time of train\n",
    "    \n",
    "    \n",
    "    # run time\n",
    "    time2 = time.time()\n",
    "    print 'total running time cost:{}s'.format(time2-time1)\n",
    "    \n",
    "    # append R\n",
    "    result_final.append(RRR)"
   ]
  },
  {
   "cell_type": "code",
   "execution_count": null,
   "metadata": {
    "collapsed": false
   },
   "outputs": [],
   "source": [
    "result_final"
   ]
  },
  {
   "cell_type": "code",
   "execution_count": null,
   "metadata": {
    "collapsed": false
   },
   "outputs": [],
   "source": [
    "# Draw\n",
    "xxx = np.arange(0,test_batch_size)\n",
    "pl.plot(xxx,out,color = \"red\")\n",
    "pl.plot(xxx,test_y)\n",
    "pl.grid()\n",
    "pl.legend()\n",
    "pl.show()"
   ]
  },
  {
   "cell_type": "code",
   "execution_count": null,
   "metadata": {
    "collapsed": false
   },
   "outputs": [],
   "source": [
    "out = np.array(outlist[0])\n",
    "np.corrcoef(out.T,test_y.T)"
   ]
  },
  {
   "cell_type": "code",
   "execution_count": null,
   "metadata": {
    "collapsed": true
   },
   "outputs": [],
   "source": [
    "DataFrame(result_final).to_csv('result2.csv')"
   ]
  },
  {
   "cell_type": "code",
   "execution_count": null,
   "metadata": {
    "collapsed": false
   },
   "outputs": [],
   "source": [
    "train_y_data.shape"
   ]
  },
  {
   "cell_type": "code",
   "execution_count": null,
   "metadata": {
    "collapsed": true
   },
   "outputs": [],
   "source": []
  }
 ],
 "metadata": {
  "kernelspec": {
   "display_name": "Python 2",
   "language": "python",
   "name": "python2"
  },
  "language_info": {
   "codemirror_mode": {
    "name": "ipython",
    "version": 2
   },
   "file_extension": ".py",
   "mimetype": "text/x-python",
   "name": "python",
   "nbconvert_exporter": "python",
   "pygments_lexer": "ipython2",
   "version": "2.7.6"
  }
 },
 "nbformat": 4,
 "nbformat_minor": 0
}
