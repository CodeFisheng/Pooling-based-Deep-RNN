{
 "cells": [
  {
   "cell_type": "markdown",
   "metadata": {
    "collapsed": true
   },
   "source": [
    "###"
   ]
  },
  {
   "cell_type": "markdown",
   "metadata": {
    "collapsed": true
   },
   "source": [
    "# Deep Learning (RNN) Demo for Load Forecasting"
   ]
  },
  {
   "cell_type": "markdown",
   "metadata": {},
   "source": [
    "### Step 1: Import all the packages needed"
   ]
  },
  {
   "cell_type": "code",
   "execution_count": 1,
   "metadata": {
    "collapsed": false
   },
   "outputs": [],
   "source": [
    "import tensorflow as tf\n",
    "from tensorflow.models.rnn import rnn, rnn_cell\n",
    "import numpy as np\n",
    "import pandas as pd\n",
    "from pandas import Series, DataFrame\n",
    "import numpy as np\n",
    "import matplotlib as mp\n",
    "import random as rd\n",
    "import argparse\n",
    "import os, sys\n",
    "import csv\n",
    "import math\n",
    "import time\n",
    "import matplotlib.pyplot as pl"
   ]
  },
  {
   "cell_type": "markdown",
   "metadata": {},
   "source": [
    "### Step 2: setting all global parameters -- sec 2 network configuration"
   ]
  },
  {
   "cell_type": "code",
   "execution_count": 2,
   "metadata": {
    "collapsed": false
   },
   "outputs": [],
   "source": [
    "time1 = time.time() # set up counter to record run time\n",
    "data_dir = './data/' # directory contains input data\n",
    "num_epoches = 5000 # training epoches for each customer samples\n",
    "n_steps = 48 # input size\n",
    "cus_num = 14\n",
    "test_batch_size = 70*48*cus_num # days of a batch\n",
    "test_minibatch_size = 70*48\n",
    "train_batch_size = 2*48*cus_num\n",
    "feature_size = 1 # same time of a week\n",
    "n_hidden = 30 # input size\n",
    "num_layers = 5\n",
    "n_output = 1\n",
    "cus_label_list = []"
   ]
  },
  {
   "cell_type": "markdown",
   "metadata": {
    "collapsed": true
   },
   "source": [
    "### Step 4: define data generating function code. \n",
    "which generate a batch of batch-size large sequence data. the data is feature_size dims width and is a time series of float32 of steps steps. inputs and outputs are:\n",
    "\n",
    "inputs:\n",
    "----n_batch: number of samples in a batch\n",
    "----steps: the sequence length of a sample data\n",
    "----feature_size: dimensions of a single time step data frame\n",
    "\n",
    "outputs:\n",
    "----X inputs, shape(n_batch,steps,feature_size)\n",
    "----Y outputs should be, shape(n_batch,)"
   ]
  },
  {
   "cell_type": "code",
   "execution_count": 3,
   "metadata": {
    "collapsed": true
   },
   "outputs": [],
   "source": [
    "def findTrLabel(index,n):\n",
    "    res = 0\n",
    "    tmp = 0\n",
    "    for i in range(0,cus_num):\n",
    "        tmp = tmp + cus_label_list[i]\n",
    "        if tmp > index:\n",
    "            res = i\n",
    "            break\n",
    "    \n",
    "    retur = np.zeros((n,cus_num))\n",
    "    retur[:,res] = 1\n",
    "    \n",
    "    #retur = np.zeros((cus_num))\n",
    "    #retur[res] = 1\n",
    "    \n",
    "    #retur = float(retur)\n",
    "    return retur"
   ]
  },
  {
   "cell_type": "code",
   "execution_count": 4,
   "metadata": {
    "collapsed": true
   },
   "outputs": [],
   "source": [
    "def findTsLabel(index,n):\n",
    "    res = 0\n",
    "    res = np.floor(index/test_minibatch_size)\n",
    "    \n",
    "    retur = np.zeros((n,cus_num))\n",
    "    retur[:,res] = 1\n",
    "    \n",
    "    #retur = np.zeros((cus_num))\n",
    "    #retur[res] = 1\n",
    "    \n",
    "    #retur = float(retur)\n",
    "    return retur"
   ]
  },
  {
   "cell_type": "code",
   "execution_count": 5,
   "metadata": {
    "collapsed": true
   },
   "outputs": [],
   "source": [
    "def train_data_gen(totaltraindays,x_data,y_data,steps = 48, n_batch = train_batch_size):\n",
    "    X = np.zeros((n_batch,steps,feature_size))\n",
    "    Y = np.zeros((n_batch,feature_size))\n",
    "    rang = range(totaltraindays) # test day sample range\n",
    "    train_days_list = rd.sample(rang,n_batch) # pick unduplicated n indexes as examples\n",
    "    #print totaltraindays\n",
    "    tmpX = [x_data[i,0-steps:] for i in train_days_list]\n",
    "    tmpY = [y_data[i,:] for i in train_days_list]\n",
    "    X = np.array(tmpX).reshape(n_batch,steps,feature_size)\n",
    "    Y = np.array(tmpY).reshape(n_batch,feature_size)\n",
    "    tmpZ = [findTrLabel(i,steps) for i in train_days_list]\n",
    "    Z = np.array(tmpZ).reshape(n_batch,steps,cus_num)\n",
    "        \n",
    "    return (X,Y,Z)"
   ]
  },
  {
   "cell_type": "code",
   "execution_count": 6,
   "metadata": {
    "collapsed": true
   },
   "outputs": [],
   "source": [
    "def test_data_gen(x_data,y_data,steps = 48, n_batch = test_batch_size):\n",
    "    X = np.zeros((n_batch,steps,feature_size))\n",
    "    Y = np.zeros((n_batch,feature_size))\n",
    "    tmpZ = [findTsLabel(i,steps) for i in range(test_batch_size)]\n",
    "    #print tmpZ\n",
    "    Z = np.array(tmpZ).reshape(n_batch,steps,cus_num)\n",
    "    #print x_data[:,0-steps:].shape,y_data.shape\n",
    "    #print n_batch, steps\n",
    "    X = x_data[:,0-steps:].reshape(n_batch,steps,feature_size)\n",
    "    Y = y_data.reshape(n_batch,feature_size)\n",
    "    \n",
    "    return (X,Y,Z)"
   ]
  },
  {
   "cell_type": "markdown",
   "metadata": {},
   "source": [
    "### Step 5: construct RNN model"
   ]
  },
  {
   "cell_type": "code",
   "execution_count": 7,
   "metadata": {
    "collapsed": false
   },
   "outputs": [],
   "source": [
    "# create placeholder for x and y\n",
    "x = tf.placeholder(\"float\",[None,n_steps,feature_size])\n",
    "z = tf.placeholder(\"float\",[None,n_steps,cus_num])\n",
    "#z = tf.placeholder(\"float\",[None,cus_num])\n",
    "istate = tf.placeholder(\"float\",[None,num_layers*2*n_hidden])\n",
    "y = tf.placeholder(\"float\",[None,n_output])\n",
    "\n",
    "\n",
    "# Define weights\n",
    "weights = {\n",
    "    'inp': tf.Variable(tf.random_normal([cus_num, n_hidden])),\n",
    "    'hidden': tf.Variable(tf.random_normal([feature_size, n_hidden])), # Hidden layer weights\n",
    "    'out': tf.Variable(tf.random_normal([n_hidden, n_output]))\n",
    "}\n",
    "biases = {\n",
    "    'inp': tf.Variable(tf.random_normal([n_hidden])),\n",
    "    'hidden': tf.Variable(tf.random_normal([n_hidden])),\n",
    "    'out': tf.Variable(tf.random_normal([n_output]))\n",
    "}"
   ]
  },
  {
   "cell_type": "code",
   "execution_count": 8,
   "metadata": {
    "collapsed": true
   },
   "outputs": [],
   "source": [
    "def RNN(_X, _Z, _istate, _weights, _biases):\n",
    "\n",
    "    # input shape: (batch_size, n_steps, n_input)\n",
    "    _X = tf.transpose(_X, [1, 0, 2])  # permute n_steps and batch_size\n",
    "    _Z = tf.transpose(_Z, [1, 0, 2])\n",
    "    # Reshape to prepare input to hidden activation\n",
    "    _X = tf.reshape(_X, [-1, feature_size]) # (n_steps*batch_size, n_input)\n",
    "    _Z = tf.reshape(_Z, [-1, cus_num])\n",
    "    # Linear activation\n",
    "    _X = tf.matmul(_X, _weights['hidden']) + _biases['hidden']\n",
    "    _Z = tf.matmul(_Z, _weights['inp']) + _biases['inp']\n",
    "    _Q = tf.add(_X,_Z)\n",
    "    # Define a lstm cell with tensorflow\n",
    "    lstm_cell = rnn_cell.BasicLSTMCell(n_hidden, forget_bias=1.0)\n",
    "    stacked_lstm_cell = rnn_cell.MultiRNNCell([lstm_cell]*num_layers)\n",
    "    \n",
    "    # Split data because rnn cell needs a list of inputs for the RNN inner loop\n",
    "    _Q = tf.split(0, n_steps, _Q) # n_steps * (batch_size, n_hidden)\n",
    "\n",
    "    # Get lstm cell output\n",
    "    outputs, states = rnn.rnn(stacked_lstm_cell, _Q, initial_state=_istate)\n",
    "\n",
    "    # Linear activation\n",
    "    # Get inner loop last output\n",
    "    return tf.matmul(outputs[-1], _weights['out']) + _biases['out']"
   ]
  },
  {
   "cell_type": "code",
   "execution_count": 9,
   "metadata": {
    "collapsed": false
   },
   "outputs": [],
   "source": [
    "pred = RNN(x, z, istate, weights, biases)\n",
    "\n",
    "#cost function \n",
    "cost = tf.reduce_mean(tf.pow(pred-y,2)) # cost function of this batch of data\n",
    "#cost2 = tf.abs(pred-y) # \n",
    "#compute parameter updates\n",
    "#train_op = tf.train.GradientDescentOptimizer(0.008).minimize(cost)\n",
    "optimizer = tf.train.RMSPropOptimizer(0.001, 0.9).minimize(cost)\n",
    "#optimizer2 = tf.train.RMSPropOptimizer(0.005, 0.3).minimize(cost2)"
   ]
  },
  {
   "cell_type": "code",
   "execution_count": 10,
   "metadata": {
    "collapsed": false
   },
   "outputs": [],
   "source": [
    "## iterating among all customers to find current training customer\n",
    "result_final = []\n",
    "#cus_id_forselect[cus_num]\n",
    "sim_id_forecast = [0,266,295,431,465,597,615,627,736,798]\n",
    "dis_id_forecast = [0,230,460,487,520,655,754,767,818,907]\n",
    "cus_list = [8,9,11,18,29,45,48,49,58,60,64,65,66,68]\n",
    "starti = 0\n",
    "endi = cus_num\n",
    "for i in range(starti,endi):\n",
    "    #ii = cus_id[i]\n",
    "    ii = cus_list[i]#sim_id_forecast[i]\n",
    "    test_x_name = data_dir + 'test_x_' + str(ii) + '.csv'\n",
    "    test_y_name = data_dir + 'test_y_' + str(ii) + '.csv'\n",
    "    train_x_name = data_dir + 'train_x_' + str(ii) + '.csv'\n",
    "    train_y_name = data_dir + 'train_y_' + str(ii) + '.csv'\n",
    "    leng_list = []\n",
    "    tmp_data = np.array(pd.read_csv(test_x_name,header = None))\n",
    "    if i == starti:\n",
    "        test_x_data = tmp_data[:,1:]\n",
    "    else:\n",
    "        test_x_data = np.concatenate((test_x_data,tmp_data[:,1:]),axis=0)\n",
    "    \n",
    "    # print test_x_data.dtype  data are stored as float64 double precision format\n",
    "    tmp_data = np.array(pd.read_csv(test_y_name,header = None))\n",
    "    if i == starti:\n",
    "        test_y_data = tmp_data[:,1:]\n",
    "    else:\n",
    "        test_y_data = np.concatenate((test_y_data,tmp_data[:,1:]),axis=0)\n",
    "    \n",
    "    tmp_data = np.array(pd.read_csv(train_x_name,header = None))\n",
    "    if i == starti:\n",
    "        train_x_data = tmp_data[:,1:]\n",
    "    else:\n",
    "        train_x_data = np.concatenate((train_x_data,tmp_data[:,1:]),axis=0)\n",
    "        \n",
    "    tmp_data = np.array(pd.read_csv(train_y_name,header = None))\n",
    "    if i == starti:\n",
    "        train_y_data = tmp_data[:,1:]\n",
    "    else:\n",
    "        train_y_data = np.concatenate((train_y_data,tmp_data[:,1:]),axis=0)\n",
    "    cus_label_list.append(tmp_data[:,1:].shape[0])\n",
    "    \n",
    "traindays = train_y_data.shape[0]"
   ]
  },
  {
   "cell_type": "code",
   "execution_count": 11,
   "metadata": {
    "collapsed": false
   },
   "outputs": [
    {
     "name": "stderr",
     "output_type": "stream",
     "text": [
      "/usr/local/lib/python2.7/dist-packages/ipykernel/__main__.py:6: DeprecationWarning: using a non-integer number instead of an integer will result in an error in the future\n"
     ]
    },
    {
     "name": "stdout",
     "output_type": "stream",
     "text": [
      "(47040, 48, 1) (47040, 48, 14)\n",
      "Iter 0 ---- Process: 0.00%\n",
      "Iter 10 ---- Process: 1.67%\n",
      "Iter 20 ---- Process: 3.33%\n",
      "Iter 30 ---- Process: 5.00%\n",
      "Iter 40 ---- Process: 6.67%\n",
      "Iter 50 ---- Process: 8.33%\n",
      "Iter 60 ---- Process: 10.00%\n",
      "Iter 70 ---- Process: 11.67%\n",
      "Iter 80 ---- Process: 13.33%\n",
      "Iter 90 ---- Process: 15.00%\n",
      "Iter 100 ---- Process: 16.67%\n",
      "Iter 110 ---- Process: 18.33%\n",
      "Iter 120 ---- Process: 20.00%\n",
      "Iter 130 ---- Process: 21.67%\n",
      "Iter 140 ---- Process: 23.33%\n",
      "Iter 150 ---- Process: 25.00%\n",
      "Iter 160 ---- Process: 26.67%\n",
      "Iter 170 ---- Process: 28.33%\n",
      "Iter 180 ---- Process: 30.00%\n",
      "Iter 190 ---- Process: 31.67%\n",
      "Iter 200 ---- Process: 33.33%\n",
      "Iter 210 ---- Process: 35.00%\n",
      "Iter 220 ---- Process: 36.67%\n",
      "Iter 230 ---- Process: 38.33%\n",
      "Iter 240 ---- Process: 40.00%\n",
      "Iter 250 ---- Process: 41.67%\n",
      "Iter 260 ---- Process: 43.33%\n",
      "Iter 270 ---- Process: 45.00%\n",
      "Iter 280 ---- Process: 46.67%\n",
      "Iter 290 ---- Process: 48.33%\n",
      "Iter 300 ---- Process: 50.00%\n",
      "Iter 310 ---- Process: 51.67%\n",
      "Iter 320 ---- Process: 53.33%\n",
      "Iter 330 ---- Process: 55.00%\n",
      "Iter 340 ---- Process: 56.67%\n",
      "Iter 350 ---- Process: 58.33%\n",
      "Iter 360 ---- Process: 60.00%\n",
      "Iter 370 ---- Process: 61.67%\n",
      "Iter 380 ---- Process: 63.33%\n",
      "Iter 390 ---- Process: 65.00%\n",
      "Iter 400 ---- Process: 66.67%\n",
      "Iter 410 ---- Process: 68.33%\n",
      "Iter 420 ---- Process: 70.00%\n",
      "Iter 430 ---- Process: 71.67%\n",
      "Iter 440 ---- Process: 73.33%\n",
      "Iter 450 ---- Process: 75.00%\n",
      "Iter 460 ---- Process: 76.67%\n",
      "Iter 470 ---- Process: 78.33%\n",
      "Iter 480 ---- Process: 80.00%\n",
      "Iter 490 ---- Process: 81.67%\n",
      "Iter 500 ---- Process: 83.33%\n",
      "Iter 510 ---- Process: 85.00%\n",
      "Iter 520 ---- Process: 86.67%\n",
      "Iter 530 ---- Process: 88.33%\n",
      "Iter 540 ---- Process: 90.00%\n",
      "Iter 550 ---- Process: 91.67%\n",
      "Iter 560 ---- Process: 93.33%\n",
      "Iter 570 ---- Process: 95.00%\n",
      "Iter 580 ---- Process: 96.67%\n",
      "Iter 590 ---- Process: 98.33%\n"
     ]
    }
   ],
   "source": [
    "outlist = np.zeros([(num_epoches/10),test_batch_size])\n",
    "kind = 0\n",
    "for i in range(0,1):\n",
    "    # generate test data\n",
    "    [test_x,test_y,test_z] = test_data_gen(test_x_data,test_y_data,n_steps,test_batch_size)\n",
    "    test_x = test_x.reshape(test_batch_size,n_steps,feature_size)\n",
    "    print test_x.shape,test_z.shape\n",
    "    test_z = test_z.reshape(test_batch_size,n_steps,cus_num)\n",
    "    ### Execute\n",
    "    # Initializing the variables\n",
    "    init = tf.initialize_all_variables()\n",
    "    with tf.Session() as sess:\n",
    "        # Create a summary to monitor cost function\n",
    "        #tf.scalar_summary(\"loss\", cost)\n",
    "        #tf.scalar_summary(\"loss2\",cost2)\n",
    "        # Merge all summaries to a single operator\n",
    "        #merged_summary_op = tf.merge_all_summaries()\n",
    "\n",
    "        # tensorboard info.# Set logs writer into folder /tmp/tensorflow_logs\n",
    "        #summary_writer = tf.train.SummaryWriter('/tmp/tensorflow_logs', graph_def=sess.graph_def)\n",
    "\n",
    "        #initialize all variables in the model\n",
    "        sess.run(init)\n",
    "        for k in range(num_epoches):\n",
    "            #Generate Data for each epoch\n",
    "            #What this does is it creates a list of of elements of length seq_len, each of size [batch_size,input_size]\n",
    "            #this is required to feed data into rnn.rnn\n",
    "            #print traindays\n",
    "            [X,Y,Z] = train_data_gen(traindays,train_x_data,train_y_data,n_steps,train_batch_size)\n",
    "            X = X.reshape(train_batch_size,n_steps,feature_size)\n",
    "            Z = Z.reshape(train_batch_size,n_steps,cus_num)\n",
    "\n",
    "            #Create the dictionary of inputs to feed into sess.run\n",
    "            \n",
    "            sess.run(optimizer,feed_dict={x:X,z:Z,y:Y,istate:np.zeros((train_batch_size,num_layers*2*n_hidden))})   \n",
    "            #perform an update on the parameters\n",
    "\n",
    "            #loss1 = sess.run(cost, feed_dict = {x:X,y:Y,istate:np.zeros((train_batch_size,num_layers*2*n_hidden))} )\n",
    "            #loss2 = sess.run(cost, feed_dict = {x:test_x,y:test_y,istate:np.zeros((test_batch_size,num_layers*2*n_hidden))} )            #compute the cost on the validation set\n",
    "            #output_tmp = sess.run(pred,feed_dict = {x:X,y:Y,istate:np.zeros((train_batch_size,num_layers*2*n_hidden))} )\n",
    "            #outp_train = output_tmp\n",
    "            if k % 10 == 0:\n",
    "                output_tmp = sess.run(pred,feed_dict = {x:test_x,z:test_z,y:test_y,istate:np.zeros((test_batch_size,num_layers*2*n_hidden))} )\n",
    "                outp_test = output_tmp\n",
    "                outlist[kind,:] = outp_test.copy().T\n",
    "                kind = kind + 1\n",
    "                print \"Iter \" + str(k) + \" ---- Process: \" + \"{:.2f}\".format(100*float(k)/float(num_epoches)) + \"%\"\n"
   ]
  },
  {
   "cell_type": "code",
   "execution_count": 12,
   "metadata": {
    "collapsed": true
   },
   "outputs": [],
   "source": [
    "def rmse(predictions, targets):\n",
    "    return np.sqrt(((predictions - targets) ** 2).mean())"
   ]
  },
  {
   "cell_type": "code",
   "execution_count": 13,
   "metadata": {
    "collapsed": true
   },
   "outputs": [],
   "source": [
    "def maxe(predictions, targets):\n",
    "    return max(abs(predictions-targets))"
   ]
  },
  {
   "cell_type": "code",
   "execution_count": 17,
   "metadata": {
    "collapsed": false
   },
   "outputs": [],
   "source": [
    "RList = np.zeros([(num_epoches/10),cus_num])\n",
    "rmseList = np.zeros([(num_epoches/10),cus_num])\n",
    "maxeList = np.zeros([(num_epoches/10),cus_num])\n",
    "for i in range(kind):\n",
    "    for j in range(cus_num):\n",
    "        out = np.array(outlist[i])\n",
    "        tmp = out.T.reshape((1,test_batch_size))\n",
    "        RList[i,j] = np.corrcoef(tmp[0,test_minibatch_size*j:test_minibatch_size*(j+1)],test_y.T[0,test_minibatch_size*j:test_minibatch_size*(j+1)])[0,1]\n",
    "        rmseList[i,j] = rmse(tmp[0,test_minibatch_size*j:test_minibatch_size*(j+1)],test_y.T[0,test_minibatch_size*j:test_minibatch_size*(j+1)])\n",
    "        maxeList[i,j] = maxe(tmp[0,test_minibatch_size*j:test_minibatch_size*(j+1)],test_y.T[0,test_minibatch_size*j:test_minibatch_size*(j+1)])\n",
    "#print R\n",
    "R2 = np.mean(RList,axis=1)\n",
    "rmse2 = np.mean(rmseList,axis=1)\n",
    "maxe2 = np.mean(maxeList,axis=1)"
   ]
  },
  {
   "cell_type": "code",
   "execution_count": 18,
   "metadata": {
    "collapsed": true
   },
   "outputs": [],
   "source": [
    "postfix = 'multi_5_30_final.csv'\n",
    "DataFrame(R2).to_csv('./final_result/multiple/R2_'+postfix)\n",
    "DataFrame(RList).to_csv('./final_result/multiple/RList_'+postfix)\n",
    "DataFrame(rmse2).to_csv('./final_result/multiple/rmse2_'+postfix)\n",
    "DataFrame(rmseList).to_csv('./final_result/multiple/rmseList_'+postfix)\n",
    "DataFrame(maxe2).to_csv('./final_result/multiple/maxe2_'+postfix)\n",
    "DataFrame(maxeList).to_csv('./final_result/multiple/maxeList_'+postfix)"
   ]
  },
  {
   "cell_type": "code",
   "execution_count": 16,
   "metadata": {
    "collapsed": false
   },
   "outputs": [
    {
     "data": {
      "text/plain": [
       "446.36595916748047"
      ]
     },
     "execution_count": 16,
     "metadata": {},
     "output_type": "execute_result"
    }
   ],
   "source": [
    "time2 = time.time()\n",
    "time = time2-time1\n",
    "time"
   ]
  }
 ],
 "metadata": {
  "kernelspec": {
   "display_name": "Python 2",
   "language": "python",
   "name": "python2"
  },
  "language_info": {
   "codemirror_mode": {
    "name": "ipython",
    "version": 2
   },
   "file_extension": ".py",
   "mimetype": "text/x-python",
   "name": "python",
   "nbconvert_exporter": "python",
   "pygments_lexer": "ipython2",
   "version": "2.7.6"
  }
 },
 "nbformat": 4,
 "nbformat_minor": 0
}
