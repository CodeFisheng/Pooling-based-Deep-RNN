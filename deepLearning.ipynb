{
 "cells": [
  {
   "cell_type": "code",
   "execution_count": 1,
   "metadata": {
    "collapsed": true
   },
   "outputs": [],
   "source": [
    "# Deep Learning (RNN) Demo for Load Forecasting"
   ]
  },
  {
   "cell_type": "markdown",
   "metadata": {},
   "source": [
    "### Step 1: Import all the packages needed"
   ]
  },
  {
   "cell_type": "code",
   "execution_count": 2,
   "metadata": {
    "collapsed": false
   },
   "outputs": [],
   "source": [
    "import tensorflow as tf\n",
    "from tensorflow.models.rnn import rnn, rnn_cell\n",
    "import numpy as np\n",
    "import pandas as pd\n",
    "from pandas import Series, DataFrame\n",
    "import numpy as np\n",
    "import matplotlib as mp\n",
    "import argparse\n",
    "import os, sys\n",
    "import csv\n",
    "import math"
   ]
  },
  {
   "cell_type": "markdown",
   "metadata": {},
   "source": [
    "#### Step 2.1: setting all global parameters -- sec 1 data parameters"
   ]
  },
  {
   "cell_type": "code",
   "execution_count": 3,
   "metadata": {
    "collapsed": true
   },
   "outputs": [],
   "source": [
    "data_path = './input.csv'\n",
    "total_days = 350\n",
    "train_days = 280\n",
    "test_days = 70\n",
    "data_length = 0"
   ]
  },
  {
   "cell_type": "markdown",
   "metadata": {},
   "source": [
    "#### Step 2.2: setting all global parameters -- sec 2 network configuration"
   ]
  },
  {
   "cell_type": "code",
   "execution_count": 4,
   "metadata": {
    "collapsed": true
   },
   "outputs": [],
   "source": [
    "learning_rate = 0.001\n",
    "num_epoches = 50\n",
    "steps = 7*48 # input size\n",
    "batch_size = 70*48 # days of a batch\n",
    "feature_size = 1 # same time of a week\n",
    "cell_size = 20 # input size \n",
    "num_layers = 3"
   ]
  },
  {
   "cell_type": "markdown",
   "metadata": {},
   "source": [
    "### Step 3:loading data"
   ]
  },
  {
   "cell_type": "code",
   "execution_count": 5,
   "metadata": {
    "collapsed": false
   },
   "outputs": [],
   "source": [
    "dataframe = pd.read_csv(data_path)\n",
    "dat = np.array(dataframe)\n",
    "date_list = dat[:,1]\n",
    "dat = dat[:,2:]# drop the first two cols --- index and date\n",
    "nrows,ncols = dat.shape\n",
    "#print nrows,ncols\n",
    "data = dat.reshape((1,nrows*ncols))\n",
    "data_length = data.shape[1]\n",
    "\n",
    "# construct training data\n",
    "train_len = train_days*48\n",
    "train_data = data[0,0:train_len]\n",
    "train_data = train_data.reshape([1,train_len])\n",
    "\n",
    "# construct testing data\n",
    "## test size = input_size + test days size. since, the output should be \n",
    "## from first test sample to last. prefix is input-size data\n",
    "test_len = test_days*48\n",
    "test_data = np.zeros(test_len+steps)\n",
    "test_data[steps:] = data[0,train_len:train_len+test_len]\n",
    "test_data[0:steps] = data[0,train_len-steps:train_len]\n",
    "test_data = test_data.reshape([1,test_len+steps])"
   ]
  },
  {
   "cell_type": "markdown",
   "metadata": {
    "collapsed": true
   },
   "source": [
    "### Step 4: define data generating function code. \n",
    "which generate a batch of batch-size large sequence data. the data is feature_size dims width and is a time series of float32 of steps steps. inputs and outputs are:\n",
    "\n",
    "inputs:\n",
    "----n_batch: number of samples in a batch\n",
    "----steps: the sequence length of a sample data\n",
    "----feature_size: dimensions of a single time step data frame\n",
    "\n",
    "outputs:\n",
    "----X inputs, shape(n_batch,steps,feature_size)\n",
    "----Y outputs should be, shape(n_batch,)"
   ]
  },
  {
   "cell_type": "code",
   "execution_count": 6,
   "metadata": {
    "collapsed": true
   },
   "outputs": [],
   "source": [
    "def train_data_gen(steps = 48, n_batch = 48):\n",
    "    X = np.zeros((n_batch,steps,1))\n",
    "    Y = np.zeros((n_batch,))\n",
    "    #for each n, compute X and correct y values\n",
    "    for n in range(n_batch):\n",
    "        # randomly pick a sample's y, between acceptable range\n",
    "        index = np.random.randint(steps,train_len)\n",
    "        # update y\n",
    "        Y[n] = train_data[0,index]\n",
    "        # update X from index-steps to index-1\n",
    "        X[n,:,:] = train_data[0,index-steps:index].T.reshape(steps,1)\n",
    "    return (X,Y)"
   ]
  },
  {
   "cell_type": "code",
   "execution_count": 7,
   "metadata": {
    "collapsed": true
   },
   "outputs": [],
   "source": [
    "def test_data_gen(steps = 7*48, n_batch = 70*48):\n",
    "    X = np.zeros((n_batch,steps,1))\n",
    "    Y = np.zeros((n_batch,))\n",
    "    #for each n, compute X and correct y values\n",
    "    for n in range(n_batch):\n",
    "        # randomly pick a sample's y, between acceptable range\n",
    "        index = steps\n",
    "        # update y\n",
    "        Y[n] = test_data[0,steps+n]\n",
    "        # update X from index-steps to index-1\n",
    "        X[n,:,:] = test_data[0,n:n+steps].T.reshape(steps,1)\n",
    "    return (X,Y)"
   ]
  },
  {
   "cell_type": "markdown",
   "metadata": {},
   "source": [
    "### Step 5: construct RNN model"
   ]
  },
  {
   "cell_type": "code",
   "execution_count": 8,
   "metadata": {
    "collapsed": false
   },
   "outputs": [],
   "source": [
    "#define rnn cell unit\n",
    "lstm = rnn_cell.BasicLSTMCell(cell_size)\n",
    "stacked_lstm = rnn_cell.MultiRNNCell([lstm]*num_layers)\n",
    "\n",
    "# create placeholder for x and y\n",
    "inputs = [tf.placeholder(tf.float32,shape=[batch_size,feature_size]) for _ in range(steps)]\n",
    "result = tf.placeholder(tf.float32,shape = [batch_size])\n",
    "\n",
    "# connect rnn computing graph\n",
    "outputs, states = rnn.rnn(lstm,inputs,dtype = tf.float32)\n",
    "\n",
    "# get the last output from list of outputs, then its the output of all steps inputs. SInce the outputs is a list of shape \n",
    "\n",
    "# (batch_size,feature_size), \n",
    "outputfs = outputs[-1]\n",
    "\n",
    "#define a linear transform into single outputs\n",
    "WW = tf.Variable(tf.random_normal([cell_size,1],stddev = 0.01))\n",
    "bb = tf.Variable(tf.random_normal([1],stddev = 0.01))\n",
    "\n",
    "#single value output\n",
    "output = tf.matmul(outputfs,WW) + bb\n",
    "\n",
    "#cost function\n",
    "cost = tf.reduce_mean(tf.pow(output-result,2)) # cost function of this batch of data\n",
    "\n",
    "#compute parameter updates\n",
    "#train_op = tf.train.GradientDescentOptimizer(0.008).minimize(cost)\n",
    "train_op = tf.train.RMSPropOptimizer(0.005, 0.3).minimize(cost)\n",
    "\n"
   ]
  },
  {
   "cell_type": "markdown",
   "metadata": {},
   "source": [
    "### Step 6: generate validation data"
   ]
  },
  {
   "cell_type": "code",
   "execution_count": 9,
   "metadata": {
    "collapsed": false
   },
   "outputs": [],
   "source": [
    "tmpx,y_val = test_data_gen(steps,batch_size)\n",
    "x_val = []\n",
    "for i in range(steps):\n",
    "    x_val.append(tmpx[:,i,:])"
   ]
  },
  {
   "cell_type": "markdown",
   "metadata": {
    "collapsed": true
   },
   "source": [
    "### Step 7: run rnn network"
   ]
  },
  {
   "cell_type": "code",
   "execution_count": 10,
   "metadata": {
    "collapsed": false,
    "scrolled": true
   },
   "outputs": [
    {
     "name": "stdout",
     "output_type": "stream",
     "text": [
      "Validation cost: 0.168670088053, on Epoch 0\n",
      "Validation cost: 0.16671000421, on Epoch 1\n",
      "Validation cost: 0.164190962911, on Epoch 2\n",
      "Validation cost: 0.161644503474, on Epoch 3\n",
      "Validation cost: 0.158691421151, on Epoch 4\n",
      "Validation cost: 0.155087605119, on Epoch 5\n",
      "Validation cost: 0.150876179338, on Epoch 6\n",
      "Validation cost: 0.145681932569, on Epoch 7\n",
      "Validation cost: 0.139449611306, on Epoch 8\n",
      "Validation cost: 0.13312163949, on Epoch 9\n",
      "Validation cost: 0.128440305591, on Epoch 10\n",
      "Validation cost: 0.127058327198, on Epoch 11\n",
      "Validation cost: 0.126752585173, on Epoch 12\n",
      "Validation cost: 0.126983523369, on Epoch 13\n",
      "Validation cost: 0.128652691841, on Epoch 14\n",
      "Validation cost: 0.127254664898, on Epoch 15\n",
      "Validation cost: 0.127430990338, on Epoch 16\n",
      "Validation cost: 0.127287685871, on Epoch 17\n",
      "Validation cost: 0.127505093813, on Epoch 18\n",
      "Validation cost: 0.127254396677, on Epoch 19\n",
      "Validation cost: 0.127468377352, on Epoch 20\n",
      "Validation cost: 0.12720015645, on Epoch 21\n",
      "Validation cost: 0.127667427063, on Epoch 22\n",
      "Validation cost: 0.127303496003, on Epoch 23\n",
      "Validation cost: 0.127355068922, on Epoch 24\n",
      "Validation cost: 0.127304971218, on Epoch 25\n",
      "Validation cost: 0.127381771803, on Epoch 26\n",
      "Validation cost: 0.127274021506, on Epoch 27\n",
      "Validation cost: 0.12739995122, on Epoch 28\n",
      "Validation cost: 0.12716832757, on Epoch 29\n",
      "Validation cost: 0.127667948604, on Epoch 30\n",
      "Validation cost: 0.127269938588, on Epoch 31\n",
      "Validation cost: 0.127135723829, on Epoch 32\n",
      "Validation cost: 0.12709069252, on Epoch 33\n",
      "Validation cost: 0.128363549709, on Epoch 34\n",
      "Validation cost: 0.127164244652, on Epoch 35\n",
      "Validation cost: 0.127333566546, on Epoch 36\n",
      "Validation cost: 0.127148166299, on Epoch 37\n",
      "Validation cost: 0.127428799868, on Epoch 38\n",
      "Validation cost: 0.127300456166, on Epoch 39\n",
      "Validation cost: 0.127339437604, on Epoch 40\n",
      "Validation cost: 0.127282097936, on Epoch 41\n",
      "Validation cost: 0.127192392945, on Epoch 42\n",
      "Validation cost: 0.127144783735, on Epoch 43\n",
      "Validation cost: 0.127493605018, on Epoch 44\n",
      "Validation cost: 0.127146825194, on Epoch 45\n",
      "Validation cost: 0.127353876829, on Epoch 46\n",
      "Validation cost: 0.127230525017, on Epoch 47\n",
      "Validation cost: 0.127340197563, on Epoch 48\n",
      "Validation cost: 0.127145215869, on Epoch 49\n",
      "haha[[ 0.1941347 ]\n",
      " [ 0.19437268]\n",
      " [ 0.19445409]\n",
      " ..., \n",
      " [ 0.19401573]\n",
      " [ 0.19438878]\n",
      " [ 0.19458491]]\n"
     ]
    }
   ],
   "source": [
    "### Execute\n",
    "outp = []\n",
    "with tf.Session() as sess:\n",
    "    # Create a summary to monitor cost function\n",
    "    tf.scalar_summary(\"loss\", cost)\n",
    "    # Merge all summaries to a single operator\n",
    "    merged_summary_op = tf.merge_all_summaries()\n",
    "\n",
    "    # tensorboard info.# Set logs writer into folder /tmp/tensorflow_logs\n",
    "    summary_writer = tf.train.SummaryWriter('/tmp/tensorflow_logs', graph_def=sess.graph_def)\n",
    "    \n",
    "    #initialize all variables in the model\n",
    "    tf.initialize_all_variables().run()\n",
    "    for k in range(num_epoches):\n",
    "        #Generate Data for each epoch\n",
    "        #What this does is it creates a list of of elements of length seq_len, each of size [batch_size,input_size]\n",
    "        #this is required to feed data into rnn.rnn\n",
    "        tempX,Y = train_data_gen(steps,batch_size)\n",
    "        X = []\n",
    "        for i in range(steps):\n",
    "            X.append(tempX[:,i,:])\n",
    "\n",
    "        #Create the dictionary of inputs to feed into sess.run\n",
    "        temp_dict = {inputs[i]:X[i] for i in range(steps)}\n",
    "        temp_dict.update({result: Y})\n",
    "        sess.run(train_op,feed_dict=temp_dict)   #perform an update on the parameters\n",
    "        \n",
    "        val_dict = {inputs[i]:x_val[i] for i in range(steps)}  #create validation dictionary\n",
    "        val_dict.update({result: y_val})\n",
    "        c_val = sess.run(cost, feed_dict = val_dict )            #compute the cost on the validation set\n",
    "        output_tmp = sess.run(output,feed_dict = val_dict)\n",
    "        outp = output_tmp\n",
    "        # Write logs at every iteration\n",
    "        summary_str = sess.run(merged_summary_op, feed_dict=val_dict)\n",
    "        summary_writer.add_summary(summary_str, k)\n",
    "        print \"Validation cost: {}, on Epoch {}\".format(c_val,k)\n",
    "    print \"haha{}\".format(outp)"
   ]
  },
  {
   "cell_type": "markdown",
   "metadata": {},
   "source": [
    "### Step 8: Evaluation"
   ]
  },
  {
   "cell_type": "code",
   "execution_count": 11,
   "metadata": {
    "collapsed": false
   },
   "outputs": [],
   "source": [
    "a = [1,2,3]\n",
    "b = [1,3,4]\n",
    "a = np.array(a)\n",
    "b = np.array(b)"
   ]
  },
  {
   "cell_type": "code",
   "execution_count": 12,
   "metadata": {
    "collapsed": false
   },
   "outputs": [
    {
     "data": {
      "text/plain": [
       "0.98198050606196585"
      ]
     },
     "execution_count": 12,
     "metadata": {},
     "output_type": "execute_result"
    }
   ],
   "source": [
    "np.corrcoef(a,b)[0,1]"
   ]
  },
  {
   "cell_type": "code",
   "execution_count": 13,
   "metadata": {
    "collapsed": false
   },
   "outputs": [],
   "source": [
    "out_p = np.array(outp)"
   ]
  },
  {
   "cell_type": "code",
   "execution_count": 14,
   "metadata": {
    "collapsed": false
   },
   "outputs": [],
   "source": [
    "out_p = out_p.reshape([3360,])"
   ]
  },
  {
   "cell_type": "code",
   "execution_count": 15,
   "metadata": {
    "collapsed": false
   },
   "outputs": [
    {
     "data": {
      "text/plain": [
       "(3360,)"
      ]
     },
     "execution_count": 15,
     "metadata": {},
     "output_type": "execute_result"
    }
   ],
   "source": [
    "out_p.shape"
   ]
  },
  {
   "cell_type": "code",
   "execution_count": 16,
   "metadata": {
    "collapsed": false
   },
   "outputs": [
    {
     "data": {
      "text/plain": [
       "array([ 0.1941347 ,  0.19437268,  0.19445409, ...,  0.19401573,\n",
       "        0.19438878,  0.19458491], dtype=float32)"
      ]
     },
     "execution_count": 16,
     "metadata": {},
     "output_type": "execute_result"
    }
   ],
   "source": [
    "out_p"
   ]
  },
  {
   "cell_type": "code",
   "execution_count": 17,
   "metadata": {
    "collapsed": false
   },
   "outputs": [
    {
     "data": {
      "text/plain": [
       "array([ 0.039,  0.086,  0.029, ...,  0.512,  0.53 ,  0.611])"
      ]
     },
     "execution_count": 17,
     "metadata": {},
     "output_type": "execute_result"
    }
   ],
   "source": [
    "y_val.dtype = float\n",
    "y_val"
   ]
  },
  {
   "cell_type": "code",
   "execution_count": 18,
   "metadata": {
    "collapsed": false
   },
   "outputs": [],
   "source": [
    "R = np.corrcoef(out_p,y_val)\n",
    "RR = R**2"
   ]
  },
  {
   "cell_type": "code",
   "execution_count": 19,
   "metadata": {
    "collapsed": false
   },
   "outputs": [
    {
     "data": {
      "text/plain": [
       "array([[ 1.        , -0.25146815],\n",
       "       [-0.25146815,  1.        ]])"
      ]
     },
     "execution_count": 19,
     "metadata": {},
     "output_type": "execute_result"
    }
   ],
   "source": [
    "R"
   ]
  },
  {
   "cell_type": "code",
   "execution_count": 20,
   "metadata": {
    "collapsed": false
   },
   "outputs": [
    {
     "data": {
      "text/plain": [
       "array([[ 1.        ,  0.06323623],\n",
       "       [ 0.06323623,  1.        ]])"
      ]
     },
     "execution_count": 20,
     "metadata": {},
     "output_type": "execute_result"
    }
   ],
   "source": [
    "RR"
   ]
  },
  {
   "cell_type": "code",
   "execution_count": 21,
   "metadata": {
    "collapsed": false
   },
   "outputs": [],
   "source": [
    "import matplotlib.pyplot as pl\n",
    "xxx = np.arange(0,test_len)\n",
    "#pl.plot(xxx,outp,label = 'predict',color = 'red')\n",
    "pl.plot(xxx,y_val,label = 'reality',color = 'blue')\n",
    "pl.grid()\n",
    "pl.legend()\n",
    "pl.show()"
   ]
  },
  {
   "cell_type": "code",
   "execution_count": 22,
   "metadata": {
    "collapsed": false
   },
   "outputs": [],
   "source": [
    "sq = pow(out_p-y_val,2)"
   ]
  },
  {
   "cell_type": "code",
   "execution_count": 23,
   "metadata": {
    "collapsed": false
   },
   "outputs": [
    {
     "data": {
      "text/plain": [
       "0.12768098082839643"
      ]
     },
     "execution_count": 23,
     "metadata": {},
     "output_type": "execute_result"
    }
   ],
   "source": [
    "np.mean(sq)"
   ]
  },
  {
   "cell_type": "code",
   "execution_count": null,
   "metadata": {
    "collapsed": true
   },
   "outputs": [],
   "source": []
  }
 ],
 "metadata": {
  "kernelspec": {
   "display_name": "Python 2",
   "language": "python",
   "name": "python2"
  },
  "language_info": {
   "codemirror_mode": {
    "name": "ipython",
    "version": 2
   },
   "file_extension": ".py",
   "mimetype": "text/x-python",
   "name": "python",
   "nbconvert_exporter": "python",
   "pygments_lexer": "ipython2",
   "version": "2.7.6"
  }
 },
 "nbformat": 4,
 "nbformat_minor": 0
}
